{
  "cells": [
    {
      "cell_type": "markdown",
      "metadata": {
        "id": "view-in-github",
        "colab_type": "text"
      },
      "source": [
        "<a href=\"https://colab.research.google.com/github/Kangkyuminn/first/blob/main/Colaboratory%EC%97%90_%EC%98%A4%EC%8B%A0_%EA%B2%83%EC%9D%84_%ED%99%98%EC%98%81%ED%95%A9%EB%8B%88%EB%8B%A4.ipynb\" target=\"_parent\"><img src=\"https://colab.research.google.com/assets/colab-badge.svg\" alt=\"Open In Colab\"/></a>"
      ]
    },
    {
      "cell_type": "markdown",
      "source": [],
      "metadata": {
        "id": "pvxG7FdAxown"
      }
    },
    {
      "cell_type": "markdown",
      "source": [
        "사용자로부터 "
      ],
      "metadata": {
        "id": "EyNz03jZuv1e"
      }
    },
    {
      "cell_type": "code",
      "source": [
        "n1=int(input(\"n1의 값을 입력하시오.:\"))   # 사용자에게 n1을 정수형을 받아라\n",
        "n2=int(input(\"n2의 값을 입력하시오.:\"))   # 사용자에게 n2을 정수형을 받아라\n",
        "n3=int(input(\"n3의 값을 입력하시오.:\"))   # 사용자에게 n3을 정수형을 받아라\n",
        "total=n1+n2+n3                            # total변수에 n1, n2, n3의 합을 저장하라\n",
        "average=total/3                           # average변수에 total을 3을 나눈 평균값을 저장하라\n",
        "print('합=',total, '평균=',average)       # 합과 변수 total, 평균과 변수 average값을 화면에 추가하라\n"
      ],
      "metadata": {
        "id": "hx3B5pOZuv92",
        "outputId": "62c1e66a-09b5-4ecb-9928-79322445c4b8",
        "colab": {
          "base_uri": "https://localhost:8080/"
        }
      },
      "execution_count": 5,
      "outputs": [
        {
          "output_type": "stream",
          "name": "stdout",
          "text": [
            "n1의 값을 입력하시오.:4\n",
            "n2의 값을 입력하시오.:4\n",
            "n3의 값을 입력하시오.:4\n",
            "합= 12 평균= 4.0\n"
          ]
        }
      ]
    }
  ],
  "metadata": {
    "colab": {
      "name": "Colaboratory에 오신 것을 환영합니다",
      "provenance": [],
      "include_colab_link": true
    },
    "kernelspec": {
      "display_name": "Python 3",
      "name": "python3"
    }
  },
  "nbformat": 4,
  "nbformat_minor": 0
}