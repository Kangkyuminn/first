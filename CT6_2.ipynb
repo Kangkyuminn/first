{
  "nbformat": 4,
  "nbformat_minor": 0,
  "metadata": {
    "colab": {
      "provenance": [],
      "authorship_tag": "ABX9TyPsZU9fvicsz/hZeb/h/y/b",
      "include_colab_link": true
    },
    "kernelspec": {
      "name": "python3",
      "display_name": "Python 3"
    },
    "language_info": {
      "name": "python"
    }
  },
  "cells": [
    {
      "cell_type": "markdown",
      "metadata": {
        "id": "view-in-github",
        "colab_type": "text"
      },
      "source": [
        "<a href=\"https://colab.research.google.com/github/Kangkyuminn/first/blob/main/CT6_2.ipynb\" target=\"_parent\"><img src=\"https://colab.research.google.com/assets/colab-badge.svg\" alt=\"Open In Colab\"/></a>"
      ]
    },
    {
      "cell_type": "markdown",
      "source": [
        "학생 10명의 성적을 입력받아 평균을 계산하는 알고니즘을 의사코드로 표현해보자 "
      ],
      "metadata": {
        "id": "w_aj4yz0YcyY"
      }
    },
    {
      "cell_type": "code",
      "source": [
        "total = 0                                    # 학생 점수의 총합 \n",
        "counter = 1                                  # 학생을 카운터하는 수 \n",
        "while counter <= 10:                         # 총 학생의 카운터 한 수가 10보다 작거나 같다\n",
        "  grade = input('점수를 입력하시오')         # 학생의 점수를 입력\n",
        "  total = int(grade) + total                 # 학생의 점수 총합을 계산 \n",
        "  counter = counter + 1                      # 카운터하는 학생들의 순번 \n",
        "average = total/10                           # 학생들의 총점수를 10으로 나눔\n",
        "print(average)                               # 학생들의 점수 평균 출력"
      ],
      "metadata": {
        "colab": {
          "base_uri": "https://localhost:8080/"
        },
        "id": "zTmVF2GYYdu3",
        "outputId": "c1d2b343-6d8c-4126-aec5-86e655485ed3"
      },
      "execution_count": 1,
      "outputs": [
        {
          "output_type": "stream",
          "name": "stdout",
          "text": [
            "점수를 입력하시오10\n",
            "점수를 입력하시오10\n",
            "점수를 입력하시오10\n",
            "점수를 입력하시오10\n",
            "점수를 입력하시오10\n",
            "점수를 입력하시오10\n",
            "점수를 입력하시오10\n",
            "점수를 입력하시오10\n",
            "점수를 입력하시오10\n",
            "점수를 입력하시오10\n",
            "10.0\n"
          ]
        }
      ]
    },
    {
      "cell_type": "code",
      "source": [],
      "metadata": {
        "id": "mSmUP16dl2tH"
      },
      "execution_count": null,
      "outputs": []
    }
  ]
}